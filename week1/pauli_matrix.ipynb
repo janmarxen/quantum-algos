{
 "cells": [
  {
   "cell_type": "markdown",
   "id": "a8801fdf-ae25-4169-9f1d-7584386b7410",
   "metadata": {},
   "source": [
    "# Pauli matrices\n",
    "\n",
    "Crucial for quantum computing. All operations of a quantum computer are commonly represented with Pauli Matrices. However, lets take a step towards the mathematical representation of the wavefunction first.\n",
    "\n",
    "## The wavefunction\n",
    "The wavefunction is a central object in quantum mechanics. Out of many equivalent representations of the wavefunction it is very commont to represent the wavefunction with a vector: $$\\psi= \\alpha\\begin{pmatrix} 1 \\\\ 0 \\end{pmatrix} + \\beta\\begin{pmatrix} 0 \\\\ 1 \\end{pmatrix}$$\n",
    "\n",
    "Recall that the meaning of the wavefunction is that of a probability density. As no probability can be higher or lower than one, the wavefunction $\\psi$ is normalized ; hence, $$\\alpha^{*}\\alpha + \\beta^{*}\\beta=1 .$$\n",
    "\n",
    "The constants $\\alpha$ and $\\beta$ can take any value between $0$ and $1$. For instance, such a state where $\\alpha=1$ and $\\beta=0$ corresponds to such a state where the vector \"one up\" is present in the \"mixture\" of vectors while the vector \"one down\" is absent. And vice-versa. However nothing is preventing you to have $\\alpha=\\frac{1}{\\sqrt{2}}$ and $\\beta=\\frac{1}{\\sqrt{2}}$ - the normalization condition would still be fulfiled.\n",
    "\n",
    "In its shortest quantum computing is the art of manipulating wavefunctions. The wavefunction above is the simples example of a one qubit wavefunction. "
   ]
  },
  {
   "cell_type": "markdown",
   "id": "b462f53f-b3b8-4b49-bbf4-421f36bc6245",
   "metadata": {},
   "source": [
    "# again about Pauli Matrices\n",
    "---\n",
    "Spin is an inherent property which particles have in quantum mechanics. When for instance electrons are inside a magnetic field they would behave like small magnets. Spin up and spin down is the syntax commonly used with respects how this small magnets behave in a magnetic field. \n",
    "\n",
    "\n",
    "In quantum mechanics the behaviour of particles in a magnetic field is mathematically described by Pauli matrices. The pauli matrices of spin-1/2 can be presented as \n",
    "$$\\sigma_x = \\begin{pmatrix} 0 & 1 \\\\ 1 & 0 \\end{pmatrix} , $$ \n",
    "$$\\sigma_y = \\begin{pmatrix} 0 & -i \\\\ i & 0 \\end{pmatrix} , $$\n",
    "$$\\sigma_z = \\begin{pmatrix} 1 & 0 \\\\ 0 & -1 \\end{pmatrix} . $$\n",
    "\\\n",
    "Also, the trace of a matrix means the sum of diagonal terms of a matrix.\n",
    "Then, $$Tr(\\sigma_x)=Tr(\\sigma_y)=Tr(\\sigma_z)=0$$"
   ]
  },
  {
   "cell_type": "markdown",
   "id": "62b1b3a8-358d-4bb2-bbb4-78e91ae30657",
   "metadata": {},
   "source": [
    "Hence, $$\\langle\\psi|\\sigma_x|\\psi\\rangle=\\alpha^{*}\\beta+\\beta^{*}\\alpha , $$\n",
    "\n",
    "if $\\alpha=1$ and $\\beta=0$ this means that one has only spin polarized up (the $z$-axis defines up and down). The total amount of spin along the perpendicular direction ($x$ is therefore 0)\n",
    "$$\\langle\\psi|\\sigma_z|\\psi\\rangle=\\alpha^{*}\\alpha - \\beta^{*}\\beta , $$\n",
    "and\n",
    "$$\\langle\\psi|\\frac{\\sigma_x+\\sigma_z}{\\sqrt{3}}|\\psi\\rangle=\\frac{\\alpha^{*}\\beta+\\beta^{*}\\alpha+\\alpha^{*}\\alpha - \\beta^{*}\\beta}{\\sqrt{3}}. $$"
   ]
  },
  {
   "cell_type": "code",
   "execution_count": 1,
   "id": "fe81edd2-6269-4197-8e8c-54045320d152",
   "metadata": {},
   "outputs": [],
   "source": [
    "import numpy as np"
   ]
  },
  {
   "cell_type": "code",
   "execution_count": 2,
   "id": "cba26841-b2a8-4122-997c-fd093c15d8f0",
   "metadata": {},
   "outputs": [],
   "source": [
    "sx = np.matrix([[0,1.],[1.,0]])\n",
    "sy = np.matrix([[0,-1j],[1j,0]])\n",
    "sz = np.matrix([[1.,0],[0,-1.]])"
   ]
  },
  {
   "cell_type": "code",
   "execution_count": 3,
   "id": "7ffdfe02-8e52-459d-b5df-38e630a2c9b5",
   "metadata": {},
   "outputs": [
    {
     "name": "stdout",
     "output_type": "stream",
     "text": [
      "0.0\n",
      "0.0\n",
      "0.0\n"
     ]
    }
   ],
   "source": [
    "print(np.trace(sx))\n",
    "print(np.trace(sy).real)\n",
    "print(np.trace(sz))"
   ]
  },
  {
   "cell_type": "markdown",
   "id": "b942ab8d-b7ca-4f54-b834-074c11994553",
   "metadata": {},
   "source": [
    "## Unitary property\n",
    "What is a unitary matrix? It is such a matrix which you multiply with its transpose-conjugate and get a unit matrix\n",
    "It is important to point out that \n",
    "$$\\sigma_x^{\\dagger}\\sigma_x = \\sigma_y^{\\dagger}\\sigma_y = \\sigma_z^{\\dagger}\\sigma_z = \\boldsymbol{I},$$\n",
    "where $\\dagger$ represents the hermitian matrix.\n",
    "Hence, $\\sigma_x$, $\\sigma_y$, and $\\sigma_z$ are unitary matrice. This also indicates that\n",
    "$$\\sigma_i^{-1} = \\sigma_{i}^{\\dagger},$$\n",
    "where $i=x,y,z$"
   ]
  },
  {
   "cell_type": "code",
   "execution_count": 4,
   "id": "4b29e9de-004b-40bc-8739-f3ef691e2908",
   "metadata": {},
   "outputs": [
    {
     "data": {
      "text/plain": [
       "matrix([[1., 0.],\n",
       "        [0., 1.]])"
      ]
     },
     "execution_count": 4,
     "metadata": {},
     "output_type": "execute_result"
    }
   ],
   "source": [
    "sx.getH()@sx"
   ]
  },
  {
   "cell_type": "code",
   "execution_count": 5,
   "id": "dbbb21ab-0316-4e4b-abe9-dac9737edc2f",
   "metadata": {},
   "outputs": [
    {
     "data": {
      "text/plain": [
       "matrix([[1.+0.j, 0.+0.j],\n",
       "        [0.+0.j, 1.+0.j]])"
      ]
     },
     "execution_count": 5,
     "metadata": {},
     "output_type": "execute_result"
    }
   ],
   "source": [
    "sy.getH()@sy"
   ]
  },
  {
   "cell_type": "code",
   "execution_count": 6,
   "id": "54cb01e6-75b6-4544-829a-adc41c2965d6",
   "metadata": {},
   "outputs": [
    {
     "data": {
      "text/plain": [
       "matrix([[1., 0.],\n",
       "        [0., 1.]])"
      ]
     },
     "execution_count": 6,
     "metadata": {},
     "output_type": "execute_result"
    }
   ],
   "source": [
    "sz.getH()@sz"
   ]
  },
  {
   "cell_type": "markdown",
   "id": "65bb469e-2d37-4a9c-90e3-1eb129bf7298",
   "metadata": {},
   "source": [
    "## Comutator and Anti-comutator\n",
    "\n",
    "It is also useful to introduce comutator and anti-comutator.\n",
    "For any two given operators $\\hat{A}$, $\\hat{B}$, the comutator of $\\hat{A}$ and $\\hat{B}$ can be expressed as\n",
    "$$[\\hat{A},\\hat{B}]=\\hat{A}\\hat{B}-\\hat{B}\\hat{A} .$$\n",
    "While the anti-comutator of $\\hat{A}$ and $\\hat{B}$ can be expressed as\n",
    "$$\\{\\hat{A},\\hat{B}\\}=\\hat{A}\\hat{B}+\\hat{B}\\hat{A} .$$"
   ]
  },
  {
   "cell_type": "markdown",
   "id": "f34e1695-43c3-4b08-9680-b434a2700c8d",
   "metadata": {},
   "source": [
    "Considering $\\sigma_x$, $\\sigma_y$, and $\\sigma_z$, we have\n",
    "$$[\\sigma_x, \\sigma_y]= 2i\\sigma_z \\;, \\; [\\sigma_y, \\sigma_z]= 2i\\sigma_x\\;, \\; [\\sigma_z, \\sigma_x]= 2i\\sigma_y $$"
   ]
  },
  {
   "cell_type": "code",
   "execution_count": 7,
   "id": "7c581c46-baa9-42bb-819d-c7be20286073",
   "metadata": {},
   "outputs": [
    {
     "name": "stdout",
     "output_type": "stream",
     "text": [
      "[[0.+2.j 0.+0.j]\n",
      " [0.+0.j 0.-2.j]]\n",
      "[[0.+0.j 0.+2.j]\n",
      " [0.+2.j 0.+0.j]]\n",
      "[[ 0.  2.]\n",
      " [-2.  0.]]\n"
     ]
    }
   ],
   "source": [
    "print(sx@sy - sy@sx)\n",
    "print(sy@sz - sz@sy)\n",
    "print(sz@sx - sx@sz)"
   ]
  },
  {
   "cell_type": "markdown",
   "id": "2c1106d6-8627-4be5-9ea3-10dfede62aa1",
   "metadata": {},
   "source": [
    "And\n",
    "$$\\{\\sigma_x, \\sigma_y\\}= \\{\\sigma_y, \\sigma_z\\}= \\{\\sigma_z, \\sigma_x\\}= \\begin{pmatrix} 0 & 0 \\\\ 0 & 0 \\end{pmatrix}$$"
   ]
  },
  {
   "cell_type": "code",
   "execution_count": 20,
   "id": "977522d7-2e60-41be-b994-465f4d5eadde",
   "metadata": {},
   "outputs": [
    {
     "name": "stdout",
     "output_type": "stream",
     "text": [
      "[[0.+0.j 0.+0.j]\n",
      " [0.+0.j 0.+0.j]]\n",
      "[[0.+0.j 0.+0.j]\n",
      " [0.+0.j 0.+0.j]]\n",
      "[[0. 0.]\n",
      " [0. 0.]]\n"
     ]
    }
   ],
   "source": [
    "print(sx@sy + sy@sx)\n",
    "print(sy@sz + sz@sy)\n",
    "print(sz@sx + sx@sz)"
   ]
  },
  {
   "cell_type": "markdown",
   "id": "1309953c-3de2-4e2e-9ba0-160188f1f8f4",
   "metadata": {},
   "source": [
    "## Tensor product\n",
    "\n",
    "Tensor product is a useful operation in quantum circuits. Suppose we have matrice $A$ and $B$. And both $A$ and $B$ are 2 by 2 matrice.\n",
    "$$A\\otimes B = \\begin{pmatrix} A_{11}\\begin{pmatrix} B_{11} & B_{12} \\\\ B_{21} & B_{22} \\end{pmatrix} & A_{12}\\begin{pmatrix} B_{11} & B_{12} \\\\ B_{21} & B_{22} \\end{pmatrix} \\\\ \n",
    "A_{21}\\begin{pmatrix} B_{11} & B_{12} \\\\ B_{21} & B_{22} \\end{pmatrix} & A_{22}\\begin{pmatrix} B_{11} & B_{12} \\\\ B_{21} & B_{22} \\end{pmatrix} \\end{pmatrix}.$$\n",
    "And the result will become a 4 by 4 matrix. "
   ]
  },
  {
   "cell_type": "code",
   "execution_count": 8,
   "id": "17830305-af65-489c-9b43-c8803452db3e",
   "metadata": {},
   "outputs": [
    {
     "name": "stdout",
     "output_type": "stream",
     "text": [
      "[[ 0.  0.  1.  0.]\n",
      " [ 0. -0.  0. -1.]\n",
      " [ 1.  0.  0.  0.]\n",
      " [ 0. -1.  0. -0.]]\n"
     ]
    }
   ],
   "source": [
    "print(np.kron(sx,sz))"
   ]
  },
  {
   "cell_type": "code",
   "execution_count": 9,
   "id": "06715c16-dde5-487f-9d0f-1f113266436e",
   "metadata": {},
   "outputs": [
    {
     "name": "stdout",
     "output_type": "stream",
     "text": [
      "[[ 0.  1.  0.  0.]\n",
      " [ 1.  0.  0.  0.]\n",
      " [ 0.  0. -0. -1.]\n",
      " [ 0.  0. -1. -0.]]\n"
     ]
    }
   ],
   "source": [
    "print(np.kron(sz,sx))"
   ]
  },
  {
   "cell_type": "markdown",
   "id": "15335ab4-04a1-4ed4-a81c-03a6483df3ba",
   "metadata": {},
   "source": [
    "# Pauli matrix and spin 1/2 quantum particles\n",
    "\n",
    "Spin-1/2 quantum particles can be described by 2 'quantum numbers', including $S=1/2$ with $\\mu_s = \\pm 1/2$. The state, $|S=1/2;\\mu_s =1/2\\rangle$ or $|+\\rangle$, is defined as $\\begin{pmatrix} 1 \\\\ 0 \\end{pmatrix}$ while the state, $|S=1/2;\\mu_s=-1/2\\rangle$ or $|-\\rangle$, is defined as $\\begin{pmatrix} 0 \\\\ 1 \\end{pmatrix}$.\n",
    "\\\n",
    "In practice, instead of $S_x$, $S_y$, and $S_z$($\\sigma_x$, $\\sigma_y$, and $\\sigma_z$), the following operators are used:\n",
    "$$\\sigma_+=\\sigma_x+i\\sigma_y,\\; \\sigma_{-}=\\sigma_x-i\\sigma_y,\\; \\sigma_z .$$\n"
   ]
  },
  {
   "cell_type": "markdown",
   "id": "2269b620-50ee-4fc8-8af6-f60aa0b48145",
   "metadata": {},
   "source": [
    "This is a ket |> - mathematically this represents a vector\n",
    "This is a bra <| - mathematically this represent a vector transposed\n",
    "\n",
    "The wavefunction is also a \"ket\" or a \"bra\". So you would often write $|\\psi\\rangle$ and $\\langle \\psi|$"
   ]
  },
  {
   "cell_type": "markdown",
   "id": "21accebf-69ec-4dbc-87a8-cacd01cf00d4",
   "metadata": {},
   "source": [
    "# Handin:\n",
    "- find matrix representation of $\\sigma_+$, and $\\sigma_-$.\n",
    "- How do you understand $\\sigma_+$, and $\\sigma_-$?"
   ]
  },
  {
   "cell_type": "markdown",
   "id": "d8b82d9c-8dfb-404f-a715-069c2a29eaf9",
   "metadata": {},
   "source": [
    "# Solution\n",
    "\n",
    "$$\\sigma_+ = \\begin{pmatrix} 0 & 1 \\\\ 0 & 0 \\end{pmatrix}$$\n",
    "$$\\sigma_- = \\begin{pmatrix} 0 & 1 \\\\ 0 & 0 \\end{pmatrix}$$\n",
    "\n",
    "Both $\\sigma_+$ and $\\sigma_-$ are known as \"ladder operators\":\n",
    "$$\\sigma_+|-\\rangle = |+\\rangle$$\n",
    "and\n",
    "$$\\sigma_-|+\\rangle = |-\\rangle$$\n",
    "Since we only have two states, this implies\n",
    "$$\\sigma_+|+\\rangle = 0$$\n",
    "and\n",
    "$$\\sigma_-|-\\rangle = 0$$\n"
   ]
  },
  {
   "cell_type": "code",
   "execution_count": null,
   "id": "4a5fb990-f71c-43ea-8904-8b2953dce30f",
   "metadata": {},
   "outputs": [],
   "source": []
  }
 ],
 "metadata": {
  "kernelspec": {
   "display_name": "kiskit80",
   "language": "python",
   "name": "kiskit80"
  },
  "language_info": {
   "codemirror_mode": {
    "name": "ipython",
    "version": 3
   },
   "file_extension": ".py",
   "mimetype": "text/x-python",
   "name": "python",
   "nbconvert_exporter": "python",
   "pygments_lexer": "ipython3",
   "version": "3.13.2"
  }
 },
 "nbformat": 4,
 "nbformat_minor": 5
}
