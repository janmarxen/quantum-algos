{
 "cells": [
  {
   "cell_type": "code",
   "execution_count": 1,
   "id": "9659d0fc",
   "metadata": {},
   "outputs": [],
   "source": [
    "from qiskit import QuantumCircuit"
   ]
  },
  {
   "cell_type": "markdown",
   "id": "83f5ba54",
   "metadata": {},
   "source": [
    "The following cell creates a new circuit with two new qubits."
   ]
  },
  {
   "cell_type": "code",
   "execution_count": 2,
   "id": "8d5bf252",
   "metadata": {},
   "outputs": [
    {
     "data": {
      "text/plain": [
       "[<Qubit register=(2, \"q\"), index=0>, <Qubit register=(2, \"q\"), index=1>]"
      ]
     },
     "execution_count": 2,
     "metadata": {},
     "output_type": "execute_result"
    }
   ],
   "source": [
    "qc = QuantumCircuit(2)\n",
    "qc.qubits"
   ]
  },
  {
   "cell_type": "markdown",
   "id": "5cf0939d",
   "metadata": {},
   "source": [
    "The following cell adds an instruction (X-gate) to the qubit 0 of the circuit. "
   ]
  },
  {
   "cell_type": "code",
   "execution_count": 3,
   "id": "9b8edec5",
   "metadata": {},
   "outputs": [
    {
     "data": {
      "text/plain": [
       "[CircuitInstruction(operation=Instruction(name='x', num_qubits=1, num_clbits=0, params=[]), qubits=(<Qubit register=(2, \"q\"), index=0>,), clbits=())]"
      ]
     },
     "execution_count": 3,
     "metadata": {},
     "output_type": "execute_result"
    }
   ],
   "source": [
    "qc.x(0)  # Add X-gate to qubit 0\n",
    "qc.data"
   ]
  },
  {
   "cell_type": "code",
   "execution_count": 4,
   "id": "46dd2c95",
   "metadata": {},
   "outputs": [
    {
     "data": {
      "image/png": "[encoded data removed]",
      "text/plain": [
       "<Figure size 203.683x200.667 with 1 Axes>"
      ]
     },
     "execution_count": 4,
     "metadata": {},
     "output_type": "execute_result"
    }
   ],
   "source": [
    "qc.draw(\"mpl\")"
   ]
  },
  {
   "cell_type": "markdown",
   "id": "d82a4e28",
   "metadata": {},
   "source": [
    "### Building a circuit"
   ]
  },
  {
   "cell_type": "code",
   "execution_count": 5,
   "id": "cb0685c5",
   "metadata": {},
   "outputs": [
    {
     "data": {
      "text/plain": [
       "<qiskit.circuit.instructionset.InstructionSet at 0x793d192352d0>"
      ]
     },
     "execution_count": 5,
     "metadata": {},
     "output_type": "execute_result"
    }
   ],
   "source": [
    "from qiskit.circuit.library import HGate\n",
    " \n",
    "qc = QuantumCircuit(1)\n",
    "qc.append(\n",
    "    HGate(),  # New HGate instruction\n",
    "    [0],  # Apply to qubit 0\n",
    ")"
   ]
  },
  {
   "cell_type": "code",
   "execution_count": 6,
   "id": "6f8943a7",
   "metadata": {},
   "outputs": [
    {
     "data": {
      "image/png": "[encoded data removed]",
      "text/plain": [
       "<Figure size 185.453x117.056 with 1 Axes>"
      ]
     },
     "execution_count": 6,
     "metadata": {},
     "output_type": "execute_result"
    }
   ],
   "source": [
    "qc.draw(\"mpl\")"
   ]
  },
  {
   "cell_type": "markdown",
   "id": "77f54418",
   "metadata": {},
   "source": [
    "The following cell composes two circuits."
   ]
  },
  {
   "cell_type": "code",
   "execution_count": 7,
   "id": "da7945b4",
   "metadata": {},
   "outputs": [],
   "source": [
    "qc_a = QuantumCircuit(4)\n",
    "qc_a.x(0)\n",
    " \n",
    "qc_b = QuantumCircuit(2, name=\"qc_b\")\n",
    "qc_b.y(0)\n",
    "qc_b.z(1)\n",
    " \n",
    "# compose qubits (0, 1) of qc_a to qubits (1, 3) of qc_b respectively\n",
    "combined = qc_a.compose(qc_b, qubits=[1, 3])"
   ]
  },
  {
   "cell_type": "code",
   "execution_count": 8,
   "id": "8ea8be4d",
   "metadata": {},
   "outputs": [
    {
     "data": {
      "image/png": "[encoded data removed]",
      "text/plain": [
       "<Figure size 203.885x367.889 with 1 Axes>"
      ]
     },
     "execution_count": 8,
     "metadata": {},
     "output_type": "execute_result"
    }
   ],
   "source": [
    "combined.draw(\"mpl\")"
   ]
  },
  {
   "cell_type": "markdown",
   "id": "03609a0f",
   "metadata": {},
   "source": [
    "The following cell creates an instruction from the second circuit and appends it to the first circuit."
   ]
  },
  {
   "cell_type": "code",
   "execution_count": 9,
   "id": "423172f4",
   "metadata": {},
   "outputs": [
    {
     "data": {
      "image/png": "[encoded data removed]",
      "text/plain": [
       "<Figure size 287.496x367.889 with 1 Axes>"
      ]
     },
     "execution_count": 9,
     "metadata": {},
     "output_type": "execute_result"
    }
   ],
   "source": [
    "inst = qc_b.to_instruction()\n",
    "qc_a.append(inst, [1, 3])\n",
    "qc_a.draw(\"mpl\")"
   ]
  }
 ],
 "metadata": {
  "kernelspec": {
   "display_name": "quantum",
   "language": "python",
   "name": "python3"
  },
  "language_info": {
   "codemirror_mode": {
    "name": "ipython",
    "version": 3
   },
   "file_extension": ".py",
   "mimetype": "text/x-python",
   "name": "python",
   "nbconvert_exporter": "python",
   "pygments_lexer": "ipython3",
   "version": "3.11.13"
  }
 },
 "nbformat": 4,
 "nbformat_minor": 5
}
