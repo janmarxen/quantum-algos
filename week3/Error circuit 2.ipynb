{
 "cells": [
  {
   "cell_type": "markdown",
   "id": "ae866bb4-d653-4d45-8352-a87efbcbdfea",
   "metadata": {},
   "source": [
    "# 1. Noisy 'fake' QPU in qiskit"
   ]
  },
  {
   "cell_type": "code",
   "execution_count": 1,
   "id": "7923a4d1-2ba2-414f-b303-f3e774b82319",
   "metadata": {},
   "outputs": [],
   "source": [
    "from qiskit import QuantumCircuit, QuantumRegister, transpile\n",
    "import numpy as np"
   ]
  },
  {
   "cell_type": "code",
   "execution_count": 2,
   "id": "86407ada-259f-47f4-b658-9431dfc79b61",
   "metadata": {},
   "outputs": [],
   "source": [
    "qc = QuantumCircuit(2)"
   ]
  },
  {
   "cell_type": "code",
   "execution_count": 3,
   "id": "f3ef5658-ef00-4f24-a2d6-0c7bab3ca02f",
   "metadata": {},
   "outputs": [
    {
     "data": {
      "text/html": [
       "<pre style=\"word-wrap: normal;white-space: pre;background: #fff0;line-height: 1.1;font-family: &quot;Courier New&quot;,Courier,monospace\">     ┌───┐\n",
       "q_0: ┤ X ├\n",
       "     └───┘\n",
       "q_1: ─────\n",
       "          </pre>"
      ],
      "text/plain": [
       "     ┌───┐\n",
       "q_0: ┤ X ├\n",
       "     └───┘\n",
       "q_1: ─────\n",
       "          "
      ]
     },
     "execution_count": 3,
     "metadata": {},
     "output_type": "execute_result"
    }
   ],
   "source": [
    "# add Pauli X(Y,Z) gate at qubit 0\n",
    "\n",
    "qc.x(0) # qc.y() for pauli y, qc.z() for pauli z\n",
    "\n",
    "qc.draw()"
   ]
  },
  {
   "cell_type": "code",
   "execution_count": 4,
   "id": "65987be7-cb4c-4270-823d-ec8ba76fafc5",
   "metadata": {},
   "outputs": [
    {
     "data": {
      "text/html": [
       "<pre style=\"word-wrap: normal;white-space: pre;background: #fff0;line-height: 1.1;font-family: &quot;Courier New&quot;,Courier,monospace\">     ┌───┐┌───┐\n",
       "q_0: ┤ X ├┤ H ├\n",
       "     └───┘└───┘\n",
       "q_1: ──────────\n",
       "               </pre>"
      ],
      "text/plain": [
       "     ┌───┐┌───┐\n",
       "q_0: ┤ X ├┤ H ├\n",
       "     └───┘└───┘\n",
       "q_1: ──────────\n",
       "               "
      ]
     },
     "execution_count": 4,
     "metadata": {},
     "output_type": "execute_result"
    }
   ],
   "source": [
    "# add Hadamard gate at qbuit 0\n",
    "\n",
    "qc.h(0)\n",
    "qc.draw()"
   ]
  },
  {
   "cell_type": "code",
   "execution_count": 5,
   "id": "cc3dd458-e957-48cf-9a64-4d0986d0cf2a",
   "metadata": {},
   "outputs": [
    {
     "data": {
      "text/html": [
       "<pre style=\"word-wrap: normal;white-space: pre;background: #fff0;line-height: 1.1;font-family: &quot;Courier New&quot;,Courier,monospace\">     ┌───┐┌───┐     \n",
       "q_0: ┤ X ├┤ H ├──■──\n",
       "     └───┘└───┘┌─┴─┐\n",
       "q_1: ──────────┤ X ├\n",
       "               └───┘</pre>"
      ],
      "text/plain": [
       "     ┌───┐┌───┐     \n",
       "q_0: ┤ X ├┤ H ├──■──\n",
       "     └───┘└───┘┌─┴─┐\n",
       "q_1: ──────────┤ X ├\n",
       "               └───┘"
      ]
     },
     "execution_count": 5,
     "metadata": {},
     "output_type": "execute_result"
    }
   ],
   "source": [
    "# add CNOT for qubit(0,1)\n",
    "\n",
    "qc.cx(0,1)\n",
    "qc.draw()"
   ]
  },
  {
   "cell_type": "code",
   "execution_count": 6,
   "id": "9cdba6ff-e1ea-419a-9c9d-abe9a80ffdf2",
   "metadata": {},
   "outputs": [
    {
     "data": {
      "text/html": [
       "<pre style=\"word-wrap: normal;white-space: pre;background: #fff0;line-height: 1.1;font-family: &quot;Courier New&quot;,Courier,monospace\">        ┌───┐┌───┐      ░ ┌─┐   \n",
       "   q_0: ┤ X ├┤ H ├──■───░─┤M├───\n",
       "        └───┘└───┘┌─┴─┐ ░ └╥┘┌─┐\n",
       "   q_1: ──────────┤ X ├─░──╫─┤M├\n",
       "                  └───┘ ░  ║ └╥┘\n",
       "meas: 2/═══════════════════╩══╩═\n",
       "                           0  1 </pre>"
      ],
      "text/plain": [
       "        ┌───┐┌───┐      ░ ┌─┐   \n",
       "   q_0: ┤ X ├┤ H ├──■───░─┤M├───\n",
       "        └───┘└───┘┌─┴─┐ ░ └╥┘┌─┐\n",
       "   q_1: ──────────┤ X ├─░──╫─┤M├\n",
       "                  └───┘ ░  ║ └╥┘\n",
       "meas: 2/═══════════════════╩══╩═\n",
       "                           0  1 "
      ]
     },
     "execution_count": 6,
     "metadata": {},
     "output_type": "execute_result"
    }
   ],
   "source": [
    "# Add measurement to circuit\n",
    "qc.measure_all()\n",
    "qc.draw()"
   ]
  },
  {
   "cell_type": "code",
   "execution_count": 7,
   "id": "f0e8ba13-a851-4e35-9cce-e7edc9b0cc13",
   "metadata": {},
   "outputs": [],
   "source": [
    "from qiskit_aer import AerSimulator\n",
    "# transpile circuit with noise\n",
    "sim = AerSimulator()\n",
    "# transpile with backend\n",
    "tqc = transpile(qc,sim)\n",
    "job_res = sim.run(tqc,shots=10000).result()\n",
    "pop = job_res.get_counts()"
   ]
  },
  {
   "cell_type": "code",
   "execution_count": 8,
   "id": "67db5918-2722-4139-9811-1988379ad88f",
   "metadata": {},
   "outputs": [
    {
     "data": {
      "image/png": "[encoded data removed]",
      "text/plain": [
       "<Figure size 640x480 with 1 Axes>"
      ]
     },
     "execution_count": 8,
     "metadata": {},
     "output_type": "execute_result"
    }
   ],
   "source": [
    "from qiskit.visualization import plot_histogram\n",
    "plot_histogram(pop)"
   ]
  },
  {
   "cell_type": "markdown",
   "id": "2fe932f3-39f0-470c-9cb3-b6433891a5e8",
   "metadata": {},
   "source": [
    "## Noise model\n",
    "\n",
    "We can add nosie into simulator. We can introduce the noise model that mimics real quantum computer. There are different type of noise which can found in qiskit website.\n",
    "\\\n",
    "https://docs.quantum.ibm.com/api/qiskit/0.24/aer_noise"
   ]
  },
  {
   "cell_type": "code",
   "execution_count": 9,
   "id": "6740f66a-0247-46b5-a167-3bce8fd8555f",
   "metadata": {},
   "outputs": [],
   "source": [
    "from qiskit import QuantumCircuit\n",
    "from qiskit import transpile\n",
    "from qiskit.visualization import plot_histogram\n",
    "from qiskit_ibm_runtime import SamplerV2\n",
    "from qiskit_ibm_runtime.fake_provider import FakeManilaV2\n",
    " \n",
    "# Get a fake backend from the fake provider\n",
    "backend = FakeManilaV2()"
   ]
  },
  {
   "cell_type": "code",
   "execution_count": 10,
   "id": "c1e55f13-418f-4edb-b08e-5636d6ef8aee",
   "metadata": {},
   "outputs": [
    {
     "data": {
      "image/png": "[encoded data removed]",
      "text/plain": [
       "<Figure size 758.032x284.278 with 1 Axes>"
      ]
     },
     "execution_count": 10,
     "metadata": {},
     "output_type": "execute_result"
    }
   ],
   "source": [
    "# Transpile the ideal circuit to a circuit that can be\n",
    "# directly executed by the backend\n",
    "transpiled_circuit = transpile(qc, backend)\n",
    "transpiled_circuit.draw('mpl', style=\"iqp\")"
   ]
  },
  {
   "cell_type": "code",
   "execution_count": 11,
   "id": "fedb5d1e-9b56-44a3-94fa-fd55b83386a0",
   "metadata": {},
   "outputs": [
    {
     "data": {
      "image/png": "[encoded data removed]",
      "text/plain": [
       "<Figure size 640x480 with 1 Axes>"
      ]
     },
     "execution_count": 11,
     "metadata": {},
     "output_type": "execute_result"
    }
   ],
   "source": [
    "# Run the transpiled circuit using the simulated fake backend\n",
    "sampler = SamplerV2(backend)\n",
    "job = sampler.run([transpiled_circuit])\n",
    "pub_result = job.result()[0]\n",
    "counts = pub_result.data.meas.get_counts()\n",
    "plot_histogram(counts)"
   ]
  },
  {
   "cell_type": "markdown",
   "id": "a0d5310e-c43a-42ac-9b0b-508274aa3104",
   "metadata": {},
   "source": [
    "# 2. Ramsey and spin echo experiments"
   ]
  },
  {
   "cell_type": "code",
   "execution_count": 12,
   "id": "89a9b796-fcba-44c8-ac79-30b4478a1fe4",
   "metadata": {},
   "outputs": [],
   "source": [
    "qc = QuantumCircuit(1)"
   ]
  },
  {
   "cell_type": "code",
   "execution_count": 13,
   "id": "08a4d680-cbb7-4366-ba83-d96dc0926b78",
   "metadata": {},
   "outputs": [],
   "source": [
    "qc_echo=[]\n",
    "delay=1\n",
    "for i in range(0,10):\n",
    "    qc_aux=QuantumCircuit(1)\n",
    "    qc_aux.rx(np.pi/2,0)\n",
    "    qc_aux.delay(delay)\n",
    "    qc_aux.rx(np.pi,0)\n",
    "    qc_aux.delay(delay)\n",
    "    qc_aux.rx(np.pi/2,0)\n",
    "    qc_aux.rx(np.pi,0)\n",
    "    qc_aux.measure_all()\n",
    "    qc_echo.append(qc_aux)\n",
    "\n",
    "qc_Ramsey=[]\n",
    "for i in range(0,10):\n",
    "    qc_aux=QuantumCircuit(1)\n",
    "    qc_aux.rx(np.pi/2,0)\n",
    "    qc_aux.delay(delay)\n",
    "    qc_aux.delay(delay)\n",
    "    qc_aux.rx(np.pi/2,0)\n",
    "    qc_aux.measure_all()\n",
    "    qc_Ramsey.append(qc_aux)\n"
   ]
  },
  {
   "cell_type": "code",
   "execution_count": null,
   "id": "e794ec44-3fa2-49a0-b501-7c4749bd04da",
   "metadata": {},
   "outputs": [],
   "source": [
    "## the same cirucuit in \"fake\" QPU"
   ]
  },
  {
   "cell_type": "code",
   "execution_count": 21,
   "id": "9c90819b-8654-486b-9096-2cbdf2b7cccc",
   "metadata": {},
   "outputs": [],
   "source": [
    "pop_echo = []\n",
    "\n",
    "for qci in qc_echo:\n",
    "    tqc = transpile(qci,backend, scheduling_method='alap')\n",
    "    job_res =sampler.run([tqc]).result()[0]\n",
    "    pop = job_res.data.meas.get_counts()\n",
    "    pop_echo.append(pop)"
   ]
  },
  {
   "cell_type": "code",
   "execution_count": 23,
   "id": "73ba3aba-8a92-4890-a96c-160b2e4a13de",
   "metadata": {},
   "outputs": [],
   "source": [
    "pop_Ramsey = []\n",
    "\n",
    "for qci in qc_Ramsey:\n",
    "    tqc = transpile(qci,backend, scheduling_method='alap')\n",
    "    job_res = sampler.run([tqc]).result()[0]\n",
    "    pop = job_res.data.meas.get_counts()\n",
    "    pop_Ramsey.append(pop)"
   ]
  },
  {
   "cell_type": "code",
   "execution_count": 24,
   "id": "cafea785-6600-41b2-878d-1483a4ee871b",
   "metadata": {},
   "outputs": [
    {
     "data": {
      "image/png": "[encoded data removed]",
      "text/plain": [
       "<Figure size 640x480 with 1 Axes>"
      ]
     },
     "execution_count": 24,
     "metadata": {},
     "output_type": "execute_result"
    }
   ],
   "source": [
    "plot_histogram(pop_echo[5])"
   ]
  },
  {
   "cell_type": "code",
   "execution_count": 25,
   "id": "1ed6bb2b-3589-4bfc-a51a-1e5728ff757b",
   "metadata": {},
   "outputs": [
    {
     "data": {
      "image/png": "[encoded data removed]",
      "text/plain": [
       "<Figure size 640x480 with 1 Axes>"
      ]
     },
     "execution_count": 25,
     "metadata": {},
     "output_type": "execute_result"
    }
   ],
   "source": [
    "plot_histogram(pop_Ramsey[5])"
   ]
  },
  {
   "cell_type": "code",
   "execution_count": null,
   "id": "8a25c9e2-21b6-45b5-9782-d58d556e55bd",
   "metadata": {},
   "outputs": [],
   "source": [
    "## This qubit refocus on the correct state in real QPU"
   ]
  },
  {
   "cell_type": "markdown",
   "id": "3948d9b3-f07c-4a81-ae68-f3df5a712ee9",
   "metadata": {},
   "source": [
    "# IBMQ implementation\n",
    "---\n",
    "Above I implemented the dynamical decoupling sequence by \"hand\"\n",
    "\n",
    "Qiskit libraries of today offer an automated way to do it. \n",
    "\n",
    "![SegmentLocal](DD.gif \"segment\")\n"
   ]
  },
  {
   "cell_type": "code",
   "execution_count": null,
   "id": "15910319-1e49-4baa-acd6-b5b73071559b",
   "metadata": {},
   "outputs": [],
   "source": [
    "estimator = Estimator(mode=backend)\n",
    "estimator.options.dynamical_decoupling.enable = True\n",
    "estimator.options.dynamical_decoupling.sequence_type = \"XpXm\""
   ]
  },
  {
   "cell_type": "markdown",
   "id": "777f97eb-2d9c-476b-b7b0-ed4010c9d47a",
   "metadata": {},
   "source": [
    "# Zero-noise extrapolation (ZNE)\n",
    "---\n",
    "\n",
    "Zero-noise extrapolation (ZNE) is a technique for mitigating errors in estimating expectation values of observables. While it often improves results, it is not guaranteed to produce an unbiased result.\n",
    "\n",
    "ZNE consists of two stages:\n",
    "\n",
    "Noise amplification: The original quantum circuit is executed multiple times at different noise rates.\n",
    "\n",
    "Extrapolation: The ideal result is estimated by extrapolating the noisy expectation value results to the zero-noise limit.\n",
    "\n",
    "Both the noise amplification and extrapolation stages can be implemented in many different ways. Qiskit Runtime implements noise amplification by \"digital gate folding,\" which means that two-qubit gates are replaced with equivalent sequences of the gate and its inverse. For example, replacing a unitary $U$ with $U U\\dagger U$. \n",
    "\n",
    "$U$ would yield a noise amplification factor of 3. For the extrapolation, you can choose from one of several functional forms, including a linear fit or an exponential fit. The image below depicts digital gate folding on the left, and the extrapolation procedure on the right.\n",
    "\n",
    "![SegmentLocal](zne.gif \"segment\")"
   ]
  },
  {
   "cell_type": "code",
   "execution_count": null,
   "id": "2de367a2-7939-4f65-a808-96c794228841",
   "metadata": {},
   "outputs": [],
   "source": [
    "estimator = Estimator(mode=backend)\n",
    "estimator.options.resilience.zne_mitigation = True\n",
    "estimator.options.resilience.zne.noise_factors = (1, 3, 5)\n",
    "estimator.options.resilience.zne.extrapolator = \"exponential\""
   ]
  },
  {
   "cell_type": "markdown",
   "id": "cba17ab0-c858-4508-9dc6-cf1237f634b5",
   "metadata": {},
   "source": [
    "# Measurement Error mitigation\n",
    "\n",
    "The effect of noise is to give us outputs that are not quite correct. The effect of noise that occurs throughout a computation will be quite complex in general, as one would have to consider how each gate transforms the effect of each error.\n",
    "\n",
    "A simpler form of noise is that occurring during final measurement. At this point, the only job remaining in the circuit is to extract a bit string as an output. For an qubit final measurement, this means extracting one of the possible bit strings. As a simple model of the noise in this process, we can imagine that the measurement first selects one of these outputs in a perfect and noiseless manner, and then noise subsequently causes this perfect output to be randomly perturbed before it is returned to the user."
   ]
  },
  {
   "cell_type": "markdown",
   "id": "3d76153a-a106-4ce9-a2e3-47fde13570e7",
   "metadata": {},
   "source": [
    "00 becomes {'10': 96, '11': 1, '01': 95, '00': 9808}\\\n",
    "01 becomes {'10': 2, '11': 103, '01': 9788, '00': 107}\\\n",
    "10 becomes {'10': 9814, '11': 90, '01': 1, '00': 95}\\\n",
    "11 becomes {'10': 87, '11': 9805, '01': 107, '00': 1}\n",
    "\n",
    "This gives us the following matrix.\n",
    "$$M = \\begin{pmatrix} 0.9808 & 0.0107 & 0.0095 & 0.0001 \\\\ 0.0095 & 0.9788 & 0.0001 & 0.0107 \\\\\n",
    "0.0096 & 0.0002 & 0.9814 & 0.0087 \\\\ 0.0001 & 0.0103 & 0.0090 & 0.9805 \\\\ \\end{pmatrix} $$\n",
    "\\\n",
    "If we now take the vector describing the perfect results for a given state, applying this matrix gives us a good approximation of the results when measurement noise is present.\n",
    "$$C_{noisy} = MC_{ideal}$$\n",
    "\\\n",
    "As an example, let's apply this process for the state $\\frac{1}{\\sqrt{2}}|00\\rangle + \\frac{1}{\\sqrt{2}}|11\\rangle$ with $10000$ shots:\n",
    "$$\\begin{pmatrix} 0.9808 & 0.0107 & 0.0095 & 0.0001 \\\\ 0.0095 & 0.9788 & 0.0001 & 0.0107 \\\\\n",
    "0.0096 & 0.0002 & 0.9814 & 0.0087 \\\\ 0.0001 & 0.0103 & 0.0090 & 0.9805 \\\\ \\end{pmatrix} \\begin{pmatrix} 5000 \\\\ 0 \\\\\n",
    "0 \\\\ 5000 \\\\ \\end{pmatrix} = \\begin{pmatrix} 4904.5 \\\\ 101 \\\\ 91.5 \\\\ 4903 \\\\ \\end{pmatrix} $$\n",
    "\\\n",
    "Instead of a way to transform ideal counts data into noisy data, we need a way to transform noisy data into ideal data. In linear algebra, we do this for a matrix by finding the inverse matrix,\n",
    "$$M^{-1}C_{noisy} = C_{ideal}$$"
   ]
  },
  {
   "cell_type": "markdown",
   "id": "920e9298-5308-400a-890b-42b377e0ccc7",
   "metadata": {},
   "source": [
    "# Handin\n",
    "\n",
    "Please build a circuit for Rabi Experiment and compare the result in the ideal simulator and the quantum computer.\n",
    "\\\n",
    "|0> -- |$R_x(\\theta$)| -- |?> , 0 <= $\\theta$ <= 8$\\pi$, 200 grid points for ideal and 20 grid points for qpu\n",
    "\\\n",
    "And plot your results as fllow:\n",
    "\\\n",
    "|1> |\\\n",
    "&nbsp;&nbsp;&nbsp;&nbsp;&nbsp;&nbsp;|\\\n",
    "&nbsp;&nbsp;&nbsp;&nbsp;&nbsp;&nbsp;|\\\n",
    "&nbsp;&nbsp;&nbsp;&nbsp;&nbsp;&nbsp;|\\\n",
    "|0> |______________ \\\n",
    "&nbsp;&nbsp;&nbsp;&nbsp;&nbsp;&nbsp;&nbsp;&nbsp;&nbsp;&nbsp;&nbsp;&nbsp;&nbsp;&nbsp;&nbsp;&nbsp;&nbsp;&nbsp; $\\theta$"
   ]
  },
  {
   "cell_type": "code",
   "execution_count": null,
   "id": "80e82831-a284-4dc2-800f-adc1ade78ace",
   "metadata": {},
   "outputs": [],
   "source": []
  },
  {
   "cell_type": "code",
   "execution_count": null,
   "id": "6379b10f-97a7-4ce0-a7b8-f501a3c5f320",
   "metadata": {},
   "outputs": [],
   "source": []
  }
 ],
 "metadata": {
  "kernelspec": {
   "display_name": "kiskit80",
   "language": "python",
   "name": "kiskit80"
  },
  "language_info": {
   "codemirror_mode": {
    "name": "ipython",
    "version": 3
   },
   "file_extension": ".py",
   "mimetype": "text/x-python",
   "name": "python",
   "nbconvert_exporter": "python",
   "pygments_lexer": "ipython3",
   "version": "3.13.2"
  }
 },
 "nbformat": 4,
 "nbformat_minor": 5
}
