{
 "cells": [
  {
   "cell_type": "markdown",
   "id": "05396d20",
   "metadata": {},
   "source": [
    "\n",
    "# Bell Test with Qiskit\n"
   ]
  },
  {
   "cell_type": "code",
   "execution_count": 1,
   "id": "c737b137",
   "metadata": {},
   "outputs": [],
   "source": [
    "from qiskit import QuantumCircuit\n",
    "from qiskit_aer import AerSimulator\n",
    "import numpy as np"
   ]
  },
  {
   "cell_type": "markdown",
   "id": "e50f8363",
   "metadata": {},
   "source": [
    "\n",
    "## Function to Prepare the Bell State\n"
   ]
  },
  {
   "cell_type": "code",
   "execution_count": 2,
   "id": "6ad53e8a",
   "metadata": {},
   "outputs": [],
   "source": [
    "def bell_circuit():\n",
    "    # This is the Phi+ Bell state circuit (one out of four Bell states)\n",
    "    qc = QuantumCircuit(2)\n",
    "    qc.h(0)        # Hadamard on qubit 0\n",
    "    qc.cx(0, 1)    # CNOT with qubit 0 as control and qubit 1 as target\n",
    "    return qc"
   ]
  },
  {
   "cell_type": "markdown",
   "id": "7d4dbb6f",
   "metadata": {},
   "source": [
    "## Circuit Visualization\n",
    "\n",
    "Let's visualize the Bell state preparation and the four different measurement circuits used in the CHSH test."
   ]
  },
  {
   "cell_type": "code",
   "execution_count": 3,
   "id": "4a97f54e",
   "metadata": {},
   "outputs": [
    {
     "name": "stdout",
     "output_type": "stream",
     "text": [
      "1. Bell State Preparation |Phi+⟩ = (|00> + |11>)/sqrt(2)\n",
      "==================================================\n",
      "     ┌───┐     \n",
      "q_0: ┤ H ├──■──\n",
      "     └───┘┌─┴─┐\n",
      "q_1: ─────┤ X ├\n",
      "          └───┘\n",
      "\n",
      "\n",
      "2. CHSH Measurement Circuits\n",
      "==================================================\n",
      "\n",
      "Setting 1: Alice Z-basis, Bob +45°\n",
      "        ┌───┐                 ░ ┌─┐   \n",
      "   q_0: ┤ H ├──■──────────────░─┤M├───\n",
      "        └───┘┌─┴─┐┌─────────┐ ░ └╥┘┌─┐\n",
      "   q_1: ─────┤ X ├┤ Ry(π/4) ├─░──╫─┤M├\n",
      "             └───┘└─────────┘ ░  ║ └╥┘\n",
      "meas: 2/═════════════════════════╩══╩═\n",
      "                                 0  1 \n",
      "\n",
      "Setting 2: Alice Z-basis, Bob -45°\n",
      "        ┌───┐                  ░ ┌─┐   \n",
      "   q_0: ┤ H ├──■───────────────░─┤M├───\n",
      "        └───┘┌─┴─┐┌──────────┐ ░ └╥┘┌─┐\n",
      "   q_1: ─────┤ X ├┤ Ry(-π/4) ├─░──╫─┤M├\n",
      "             └───┘└──────────┘ ░  ║ └╥┘\n",
      "meas: 2/══════════════════════════╩══╩═\n",
      "                                  0  1 \n",
      "\n",
      "Setting 3: Alice X-basis, Bob -45°\n",
      "        ┌───┐     ┌──────────┐ ░ ┌─┐   \n",
      "   q_0: ┤ H ├──■──┤ Ry(-π/2) ├─░─┤M├───\n",
      "        └───┘┌─┴─┐├──────────┤ ░ └╥┘┌─┐\n",
      "   q_1: ─────┤ X ├┤ Ry(-π/4) ├─░──╫─┤M├\n",
      "             └───┘└──────────┘ ░  ║ └╥┘\n",
      "meas: 2/══════════════════════════╩══╩═\n",
      "                                  0  1 \n",
      "\n",
      "Setting 4: Alice X-basis, Bob 45°\n",
      "        ┌───┐     ┌──────────┐ ░ ┌─┐   \n",
      "   q_0: ┤ H ├──■──┤ Ry(-π/2) ├─░─┤M├───\n",
      "        └───┘┌─┴─┐├─────────┬┘ ░ └╥┘┌─┐\n",
      "   q_1: ─────┤ X ├┤ Ry(π/4) ├──░──╫─┤M├\n",
      "             └───┘└─────────┘  ░  ║ └╥┘\n",
      "meas: 2/══════════════════════════╩══╩═\n",
      "                                  0  1 \n"
     ]
    }
   ],
   "source": [
    "# 1. Bell State Preparation Circuit\n",
    "print(\"1. Bell State Preparation |Phi+⟩ = (|00> + |11>)/sqrt(2)\")\n",
    "print(\"=\"*50)\n",
    "bell_qc = bell_circuit()\n",
    "print(bell_qc.draw())\n",
    "\n",
    "print(\"\\n\\n2. CHSH Measurement Circuits\")\n",
    "print(\"=\"*50)\n",
    "\n",
    "# Setting 1: Alice Z (0°), Bob at +45°\n",
    "print(\"\\nSetting 1: Alice Z-basis, Bob +45°\")\n",
    "qc1 = bell_circuit()\n",
    "qc1.ry(np.pi/4, 1)  # Bob: 45° rotation\n",
    "qc1.measure_all()\n",
    "print(qc1.draw())\n",
    "\n",
    "# Setting 2: Alice Z (0°), Bob at -45°\n",
    "print(\"\\nSetting 2: Alice Z-basis, Bob -45°\")\n",
    "qc2 = bell_circuit()\n",
    "qc2.ry(-np.pi/4, 1)  # Bob: -45° rotation\n",
    "qc2.measure_all()\n",
    "print(qc2.draw())\n",
    "\n",
    "# Setting 3: Alice X (90°), Bob at -45°\n",
    "print(\"\\nSetting 3: Alice X-basis, Bob -45°\")\n",
    "qc3 = bell_circuit()\n",
    "qc3.ry(-np.pi/2, 0)  # Alice: X measurement\n",
    "qc3.ry(-np.pi/4, 1)  # Bob: -45° rotation\n",
    "qc3.measure_all()\n",
    "print(qc3.draw())\n",
    "\n",
    "# Setting 4: Alice X (90°), Bob at 45°\n",
    "print(\"\\nSetting 4: Alice X-basis, Bob 45°\")\n",
    "qc4 = bell_circuit()\n",
    "qc4.ry(-np.pi/2, 0)  # Alice: X measurement\n",
    "qc4.ry(np.pi/4, 1)   # Bob: 45° rotation\n",
    "qc4.measure_all()\n",
    "print(qc4.draw())"
   ]
  },
  {
   "cell_type": "markdown",
   "id": "04102c8e",
   "metadata": {},
   "source": [
    "## What Happens in Each Measurement\n",
    "\n",
    "### The Four CHSH Settings:\n",
    "\n",
    "1. **Setting 1**: Alice Z-basis (0°) + Bob +45°\n",
    "   - High correlation expected\n",
    "   \n",
    "2. **Setting 2**: Alice Z-basis (0°) + Bob -45° \n",
    "   - High correlation expected\n",
    "   \n",
    "3. **Setting 3**: Alice X-basis (90°) + Bob -45°\n",
    "   - Medium correlation expected\n",
    "   \n",
    "4. **Setting 4**: Alice X-basis (90°) + Bob +45°\n",
    "   - Anti-correlation expected\n",
    "\n",
    "### The Inequality:\n",
    "**CHSH = E1 + E2 + E3 - E4**\n",
    "\n",
    "Classical physics: CHSH <= 2  \n",
    "Quantum mechanics: CHSH can reach 2*sqrt(2) = 2.83\n",
    "\n",
    "The negative sign on E4 turns the anti-correlation into a positive contribution to the CHSH violation."
   ]
  },
  {
   "cell_type": "markdown",
   "id": "814edb8a",
   "metadata": {},
   "source": [
    "## CHSH Test Implementation and Results"
   ]
  },
  {
   "cell_type": "code",
   "execution_count": 8,
   "id": "03a18e41",
   "metadata": {},
   "outputs": [
    {
     "name": "stdout",
     "output_type": "stream",
     "text": [
      "Expectation values: ['0.706', '0.704', '0.707', '-0.707']\n",
      "CHSH S = 2.824\n",
      "Theoretical maximum: 2*sqrt(2) ≈ 2.828\n",
      "Bell inequality violated. Quantum entanglement observed.\n"
     ]
    }
   ],
   "source": [
    "def expectation(counts):\n",
    "    total = sum(counts.values())\n",
    "    exp = 0\n",
    "    for outcome, count in counts.items():\n",
    "        # outcome:'10' means qubit 1=1, qubit 0=0\n",
    "        a = 1 if outcome[1] == '0' else -1  # Alice\n",
    "        b = 1 if outcome[0] == '0' else -1  # Bob\n",
    "        exp += a * b * count\n",
    "    return exp / total\n",
    "\n",
    "def run_chsh():\n",
    "    \"\"\"CHSH test with measurement angles to maximize violation\"\"\"\n",
    "    # Use statevector simulator for exact quantum mechanical results (no classical noise)\n",
    "    # This avoids classical noise that could mask quantum correlations\n",
    "    backend = AerSimulator(method='statevector')\n",
    "    shots = 100000\n",
    "    results = []\n",
    "\n",
    "    # Setting 1: Alice Z (0°), Bob at 45°\n",
    "    qc = bell_circuit()\n",
    "    qc.ry(np.pi/4, 1)  # Bob 45°\n",
    "    qc.measure_all()\n",
    "    job = backend.run(qc, shots=shots)\n",
    "    results.append(job.result().get_counts())\n",
    "    \n",
    "    # Setting 2: Alice Z (0°), Bob at -45°\n",
    "    qc = bell_circuit()\n",
    "    qc.ry(-np.pi/4, 1)  # Bob -45°\n",
    "    qc.measure_all()\n",
    "    job = backend.run(qc, shots=shots)\n",
    "    results.append(job.result().get_counts())\n",
    "    \n",
    "    # Setting 3: Alice X (90°), Bob at 45°\n",
    "    qc = bell_circuit()\n",
    "    qc.ry(-np.pi/2, 0)  # Alice X-basis\n",
    "    qc.ry(-np.pi/4, 1)   # Bob -45°\n",
    "    qc.measure_all() \n",
    "    job = backend.run(qc, shots=shots)\n",
    "    results.append(job.result().get_counts())\n",
    "\n",
    "    # Setting 4: Alice X (90°), Bob at -45°\n",
    "    qc = bell_circuit()\n",
    "    qc.ry(-np.pi/2, 0)  # Alice X-basis\n",
    "    qc.ry(np.pi/4, 1)  # Bob 45°\n",
    "    qc.measure_all()\n",
    "    job = backend.run(qc, shots=shots)\n",
    "    results.append(job.result().get_counts())\n",
    "    \n",
    "    return results\n",
    "\n",
    "def compute_chsh():\n",
    "    results = run_chsh()\n",
    "    E = [expectation(c) for c in results]\n",
    "    S = abs(E[0] + E[1] + E[2] - E[3])  # Use absolute value for CHSH\n",
    "    print(f\"Expectation values: {[f'{e:.3f}' for e in E]}\")\n",
    "    print(f\"CHSH S = {S:.3f}\")\n",
    "    print(f\"Theoretical maximum: 2*sqrt(2) ≈ {2*np.sqrt(2):.3f}\")\n",
    "    if S > 2:\n",
    "        print(\"Bell inequality violated. Quantum entanglement observed.\")\n",
    "    else:\n",
    "        print(\"No violation. Results compatible with classical physics.\")\n",
    "\n",
    "compute_chsh()"
   ]
  },
  {
   "cell_type": "markdown",
   "id": "d22b928d",
   "metadata": {},
   "source": [
    "Disclaimer: AI assistance was used for formatting and code generation. The logic and methodology were developed by the author (Jan Marxen)."
   ]
  }
 ],
 "metadata": {
  "kernelspec": {
   "display_name": "quantum",
   "language": "python",
   "name": "python3"
  },
  "language_info": {
   "codemirror_mode": {
    "name": "ipython",
    "version": 3
   },
   "file_extension": ".py",
   "mimetype": "text/x-python",
   "name": "python",
   "nbconvert_exporter": "python",
   "pygments_lexer": "ipython3",
   "version": "3.11.13"
  }
 },
 "nbformat": 4,
 "nbformat_minor": 5
}
